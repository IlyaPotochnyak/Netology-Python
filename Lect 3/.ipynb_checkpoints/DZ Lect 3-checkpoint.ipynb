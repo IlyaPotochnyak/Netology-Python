{
 "cells": [
  {
   "cell_type": "markdown",
   "metadata": {},
   "source": [
    "Домашнее задание к лекции \"Введение в типы данных и циклы. Часть 1\"\n",
    "Задание 1\n",
    "Дана переменная, в которой хранится слово из латинских букв. Напишите код, который выводит на экран:\n",
    "\n",
    "среднюю букву, если число букв в слове нечетное;\n",
    "две средних буквы, если число букв четное.\n",
    "Примеры работы программы:\n",
    "\n",
    "word = 'test'\n",
    "Результат:\n",
    "es\n",
    "\n",
    "word = 'testing'\n",
    "Результат:\n",
    "t"
   ]
  },
  {
   "cell_type": "code",
   "execution_count": 24,
   "metadata": {},
   "outputs": [
    {
     "name": "stdout",
     "output_type": "stream",
     "text": [
      "s\n"
     ]
    }
   ],
   "source": [
    "word = 'testi'\n",
    "if len(word) % 2 == 0:\n",
    "#     print (int(len(word) / 2))\n",
    "    print (word[int(len(word) / 2 - 1): int(len(word) / 2 + 1)])\n",
    "else:\n",
    "    print (word[int(len(word) / 2)])"
   ]
  },
  {
   "cell_type": "markdown",
   "metadata": {},
   "source": [
    "Задание 2\n",
    "Напишите программу, которая последовательно запрашивает у пользователя числа (по одному за раз) и после первого нуля выводит сумму всех ранее введенных чисел.\n",
    "\n",
    "Примеры работы программы:\n",
    "\n",
    "Введите число:  \n",
    "1\n",
    "\n",
    "Введите число:  \n",
    "4\n",
    "\n",
    "Введите число:  \n",
    "6\n",
    "\n",
    "Введите число:  \n",
    "0\n",
    "Результат:\n",
    "11\n",
    "\n",
    "Введите число:  \n",
    "0\n",
    "Результат:\n",
    "0"
   ]
  },
  {
   "cell_type": "code",
   "execution_count": 3,
   "metadata": {},
   "outputs": [
    {
     "name": "stdout",
     "output_type": "stream",
     "text": [
      "Введите число: 1\n",
      "Введите число: 6\n",
      "Введите число: 4\n",
      "Введите число: 0\n",
      "Результат: 11\n"
     ]
    }
   ],
   "source": [
    "inp = int(input('Введите число: '))\n",
    "x = 0\n",
    "while inp != 0:\n",
    "    x += inp\n",
    "    inp = int(input('Введите число: '))\n",
    "print ('Результат:', x)\n",
    "    "
   ]
  },
  {
   "cell_type": "code",
   "execution_count": null,
   "metadata": {},
   "outputs": [],
   "source": [
    "Задание 3\n",
    "Мы делаем MVP dating-сервиса, и у нас есть список парней и девушек.\n",
    "Выдвигаем гипотезу: лучшие рекомендации мы получим, если просто отсортируем имена по алфавиту и познакомим людей с одинаковыми индексами после сортировки! Но мы не будем никого знакомить, если кто-то может остаться без пары:\n",
    "\n",
    "Примеры работы программы:\n",
    "\n",
    "boys = ['Peter', 'Alex', 'John', 'Arthur', 'Richard']\n",
    "girls = ['Kate', 'Liza', 'Kira', 'Emma', 'Trisha']\n",
    "Результат:\n",
    "\n",
    "Идеальные пары:  \n",
    "Alex и Emma  \n",
    "Arthur и Kate  \n",
    "John и Kira  \n",
    "Peter и Liza  \n",
    "Richard и Trisha\n",
    "\n",
    "boys = ['Peter', 'Alex', 'John', 'Arthur', 'Richard', 'Michael']\n",
    "girls = ['Kate', 'Liza', 'Kira', 'Emma', 'Trisha']\n",
    "Результат:\n",
    "Внимание, кто-то может остаться без пары!"
   ]
  },
  {
   "cell_type": "code",
   "execution_count": 22,
   "metadata": {},
   "outputs": [
    {
     "name": "stdout",
     "output_type": "stream",
     "text": [
      "Идеальные пары:\n",
      "Alex и Emma\n",
      "Arthur и Kate\n",
      "John и Kira\n",
      "Peter и Liza\n",
      "Richard и Trisha\n"
     ]
    }
   ],
   "source": [
    "boys = ['Peter', 'Alex', 'John', 'Arthur', 'Richard']\n",
    "girls = ['Kate', 'Liza', 'Kira', 'Emma', 'Trisha']\n",
    "\n",
    "if len(boys) != len(girls):\n",
    "    print('Внимание, кто-то может остаться без пары!')\n",
    "else:\n",
    "#     boys = sorted(boys)\n",
    "    couples = list(zip(sorted(boys), sorted(girls)))\n",
    "    print('Идеальные пары:')\n",
    "    for couple in couples:\n",
    "        print(couple[0], 'и', couple[1])\n",
    "    "
   ]
  },
  {
   "cell_type": "markdown",
   "metadata": {},
   "source": [
    "Задание 4\n",
    "У нас есть список, содержащий информацию о среднедневной температуре в Фаренгейтах за произвольный период по странам (структура данных в примере). Необходимо написать код, который рассчитает среднюю температуру за период в Цельсиях(!) для каждой страны.\n",
    "\n",
    "Пример работы программы:\n",
    "\n",
    "countries_temperature = [\n",
    "    ['Thailand', [75.2, 77, 78.8, 73.4, 68, 75.2, 77]],\n",
    "    ['Germany', [57.2, 55.4, 59, 59, 53.6]],\n",
    "    ['Russia', [35.6, 37.4, 39.2, 41, 42.8, 39.2, 35.6]],\n",
    "    ['Poland', [50, 50, 53.6, 57.2, 55.4, 55.4]]\n",
    "]\n",
    "Результат:\n",
    "\n",
    "Средняя температура в странах:\n",
    "Thailand  -  23.9 С\n",
    "Germany  -  13.8 С\n",
    "Russia  -  3.7 С\n",
    "Poland  -  12.0 С"
   ]
  },
  {
   "cell_type": "code",
   "execution_count": 33,
   "metadata": {},
   "outputs": [
    {
     "name": "stdout",
     "output_type": "stream",
     "text": [
      "Средняя температура в странах:\n",
      "Thailand - 23.7 C\n",
      "Germany - 13.7 C\n",
      "Russia - 3.5 C\n",
      "Poland - 11.8 C\n"
     ]
    }
   ],
   "source": [
    "countries_temperature = [\n",
    "    ['Thailand', [75.2, 77, 78.8, 73.4, 68, 75.2, 77]],\n",
    "    ['Germany', [57.2, 55.4, 59, 59, 53.6]],\n",
    "    ['Russia', [35.6, 37.4, 39.2, 41, 42.8, 39.2, 35.6]],\n",
    "    ['Poland', [50, 50, 53.6, 57.2, 55.4, 55.4]]\n",
    "]\n",
    "\n",
    "print ('Средняя температура в странах:')\n",
    "\n",
    "for country in countries_temperature:\n",
    "    average_temp_f = 0\n",
    "    country_name, temp_data = country\n",
    "    for i in temp_data:\n",
    "        average_temp_f += int(i)\n",
    "    average_temp_f /= len(temp_data)\n",
    "#     print (average_temp_f)\n",
    "    average_temp_c = round((5/9) * (round(average_temp_f, 1) - 32), 1)\n",
    "    print (country_name, '-', average_temp_c, 'C')"
   ]
  },
  {
   "cell_type": "markdown",
   "metadata": {},
   "source": [
    "Задание 5 (необязательное)\n",
    "Дан поток логов по количеству просмотренных страниц для каждого пользователя. Вам необходимо написать алгоритм, который считает среднее значение просмотров на пользователя. Т. е. надо посчитать отношение суммы всех просмотров к количеству уникальных пользователей.\n",
    "\n",
    "Примеры работы программы:\n",
    "\n",
    "stream = [\n",
    "    '2018-01-01,user1,3',\n",
    "    '2018-01-07,user1,4',\n",
    "    '2018-03-29,user1,1',\n",
    "    '2018-04-04,user1,13',\n",
    "    '2018-01-05,user2,7',\n",
    "    '2018-06-14,user3,4',\n",
    "    '2018-07-02,user3,10',\n",
    "    '2018-03-21,user4,19',\n",
    "    '2018-03-22,user4,4',\n",
    "    '2018-04-22,user4,8',\n",
    "    '2018-05-03,user4,9',\n",
    "    '2018-05-11,user4,11',\n",
    "]\n",
    "Результат:\n",
    "Среднее количество просмотров на уникального пользователя: 23.25\n",
    "\n",
    "stream = [\n",
    "    '2018-01-01,user100,150',\n",
    "    '2018-01-07,user99,205',\n",
    "    '2018-03-29,user1001,81'\n",
    "]\n",
    "Результат:\n",
    "Среднее количество просмотров на уникального пользователя: 145.33"
   ]
  },
  {
   "cell_type": "code",
   "execution_count": 48,
   "metadata": {},
   "outputs": [
    {
     "name": "stdout",
     "output_type": "stream",
     "text": [
      "93\n",
      "Среднее количество просмотров на уникального пользователя: 23.25\n"
     ]
    }
   ],
   "source": [
    "stream = [\n",
    "    '2018-01-01,user1,3',\n",
    "    '2018-01-07,user1,4',\n",
    "    '2018-03-29,user1,1',\n",
    "    '2018-04-04,user1,13',\n",
    "    '2018-01-05,user2,7',\n",
    "    '2018-06-14,user3,4',\n",
    "    '2018-07-02,user3,10',\n",
    "    '2018-03-21,user4,19',\n",
    "    '2018-03-22,user4,4',\n",
    "    '2018-04-22,user4,8',\n",
    "    '2018-05-03,user4,9',\n",
    "    '2018-05-11,user4,11',\n",
    "]\n",
    "\n",
    "# stream = [\n",
    "#     '2018-01-01,user100,150',\n",
    "#     '2018-01-07,user99,205',\n",
    "#     '2018-03-29,user1001,81'\n",
    "# ]\n",
    "\n",
    "users = set()\n",
    "views = 0\n",
    "for i in stream:\n",
    "    user_name = i.split(',')[1]\n",
    "#     print (user_name)\n",
    "    users.add(user_name)\n",
    "    views += int(i.split(',')[-1])\n",
    "# print (*users)\n",
    "print (views)\n",
    "print ('Среднее количество просмотров на уникального пользователя:', views / len(users))\n"
   ]
  },
  {
   "cell_type": "markdown",
   "metadata": {},
   "source": [
    "Задание 6 (необязательное)\n",
    "Необходимо у пользователя запрашивать набор чисел разделенных пробелом. В результате должны выводиться числа, которые повторяются в вводе более одного раза.\n",
    "\n",
    "Примеры работы программы:\n",
    "\n",
    "Введите числа:\n",
    "4 8 0 3 4 2 0 3\n",
    "Результат:\n",
    "0 3 4\n",
    "\n",
    "Введите числа:\n",
    "1 1 2 2 3 3\n",
    "Результат:\n",
    "1 2 3\n",
    "\n",
    "Введите числа:\n",
    "1 1 1 1 1 2 2 2\n",
    "Результат:\n",
    "1 2"
   ]
  },
  {
   "cell_type": "code",
   "execution_count": 58,
   "metadata": {},
   "outputs": [
    {
     "name": "stdout",
     "output_type": "stream",
     "text": [
      "ведите числа:\n",
      "1 2 3 2 4 5 6 5 7\n",
      "Результат:\n",
      "2 5\n"
     ]
    }
   ],
   "source": [
    "inp = [int(i) for i in input('ведите числа:\\n').split(' ')]\n",
    "\n",
    "# print (inp)\n",
    "out = set()\n",
    "for i in inp:\n",
    "    if inp.count(i) > 1:\n",
    "        out.add(i)\n",
    "print('Результат:')\n",
    "print(*out)"
   ]
  },
  {
   "cell_type": "code",
   "execution_count": null,
   "metadata": {},
   "outputs": [],
   "source": []
  }
 ],
 "metadata": {
  "kernelspec": {
   "display_name": "Python 3",
   "language": "python",
   "name": "python3"
  },
  "language_info": {
   "codemirror_mode": {
    "name": "ipython",
    "version": 3
   },
   "file_extension": ".py",
   "mimetype": "text/x-python",
   "name": "python",
   "nbconvert_exporter": "python",
   "pygments_lexer": "ipython3",
   "version": "3.8.3"
  }
 },
 "nbformat": 4,
 "nbformat_minor": 4
}
