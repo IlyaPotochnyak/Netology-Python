{
 "cells": [
  {
   "cell_type": "markdown",
   "metadata": {},
   "source": [
    "# Обработка ошибок\n",
    "1. Текст ошибки указывается в последней строчке\n",
    "2. Все что перед ней - место, где ошибка произошла\n",
    "3. Есть встроенные типы ошибок, но можно создавать и свои"
   ]
  },
  {
   "cell_type": "markdown",
   "metadata": {},
   "source": [
    "Некоторые типы ошибок из документации (точнее [перевода](https://pythonworld.ru/tipy-dannyx-v-python/isklyucheniya-v-python-konstrukciya-try-except-dlya-obrabotki-isklyuchenij.html)):\n",
    "- ZeroDivisionError - деление на ноль\n",
    "- ImportError - не удалось импортирование модуля или его атрибута (надо установить эту библиотеку)\n",
    "- IndexError - индекс не входит в диапазон элементов.\n",
    "- KeyError - несуществующий ключ (в словаре, множестве или другом объекте)\n",
    "- MemoryError - недостаточно памяти\n",
    "- SyntaxError - синтаксическая ошибка (вы опечатались или не закрыли скобку)\n",
    "- TypeError - операция применена к объекту несоответствующего типа\n",
    "- ValueError - функция получает аргумент правильного типа, но некорректного значения\n",
    "- Warning - предупреждение (текст на красном фоне в юпитере это предупреждение, а не ошибка)"
   ]
  },
  {
   "cell_type": "code",
   "execution_count": null,
   "metadata": {},
   "outputs": [],
   "source": [
    "# эту строку можно перевести в число\n",
    "some_num = '123'"
   ]
  },
  {
   "cell_type": "code",
   "execution_count": null,
   "metadata": {},
   "outputs": [],
   "source": [
    "float(some_num)"
   ]
  },
  {
   "cell_type": "code",
   "execution_count": null,
   "metadata": {},
   "outputs": [],
   "source": [
    "# а эту уже нет (по крайней мере в десятичном счислении)\n",
    "ups = '123a'"
   ]
  },
  {
   "cell_type": "code",
   "execution_count": null,
   "metadata": {
    "scrolled": true
   },
   "outputs": [],
   "source": [
    "# ValueError - тип ошибки, далее пояснение что произошло\n",
    "# ----> 1 float(ups) - в каком месте кода произошла ошибка\n",
    "float(ups)"
   ]
  },
  {
   "cell_type": "markdown",
   "metadata": {},
   "source": [
    "Пример ошибки внутри функции"
   ]
  },
  {
   "cell_type": "code",
   "execution_count": null,
   "metadata": {},
   "outputs": [],
   "source": [
    "def square_sum(*args):\n",
    "    total_sum = 0\n",
    "    for arg in args:\n",
    "        total_sum += arg**2\n",
    "    \n",
    "    return total_sum"
   ]
  },
  {
   "cell_type": "code",
   "execution_count": null,
   "metadata": {},
   "outputs": [],
   "source": [
    "square_sum(1, 2, 3)"
   ]
  },
  {
   "cell_type": "code",
   "execution_count": null,
   "metadata": {},
   "outputs": [],
   "source": [
    "# пытаемся применить к операцию возведения в квадрат к строке\n",
    "# ----> 1 square_sum(1, 2, '3') - в какой функции произошла ошибка\n",
    "# ----> 4         total_sum += arg**2 - в какой именно строке произошла ошибка\n",
    "\n",
    "square_sum(1, 2, '3')"
   ]
  },
  {
   "cell_type": "markdown",
   "metadata": {},
   "source": [
    "## Как сделать, чтобы цикл с расчетом не падал каждый раз"
   ]
  },
  {
   "cell_type": "code",
   "execution_count": 3,
   "metadata": {},
   "outputs": [
    {
     "name": "stdout",
     "output_type": "stream",
     "text": [
      "Error\n"
     ]
    }
   ],
   "source": [
    "try:\n",
    "    # ваш код, где может произойти ошибка\n",
    "    float('123a')\n",
    "\n",
    "except:\n",
    "    # код, который выполняется в случае ошибки\n",
    "    print('Error')"
   ]
  },
  {
   "cell_type": "code",
   "execution_count": 4,
   "metadata": {},
   "outputs": [
    {
     "name": "stdout",
     "output_type": "stream",
     "text": [
      "Ошибка в данных: 240tot\n",
      "Итого 240.0\n"
     ]
    }
   ],
   "source": [
    "data = ['90', '60', '90', '240tot']\n",
    "total_sum = 0\n",
    "\n",
    "for num in data:\n",
    "    try:\n",
    "        total_sum += float(num)\n",
    "\n",
    "    except:\n",
    "        print('Ошибка в данных: {}'.format(num))\n",
    "    \n",
    "print('Итого', total_sum)"
   ]
  },
  {
   "cell_type": "markdown",
   "metadata": {},
   "source": [
    "Как сохранить всю информацию об ошибке?"
   ]
  },
  {
   "cell_type": "code",
   "execution_count": 1,
   "metadata": {
    "scrolled": true
   },
   "outputs": [
    {
     "name": "stdout",
     "output_type": "stream",
     "text": [
      "None\n",
      "Проехали\n"
     ]
    },
    {
     "name": "stderr",
     "output_type": "stream",
     "text": [
      "Traceback (most recent call last):\n",
      "  File \"<ipython-input-1-aec2760d579a>\", line 5, in <module>\n",
      "    float('123fff')\n",
      "ValueError: could not convert string to float: '123fff'\n"
     ]
    }
   ],
   "source": [
    "# полная версия traceback\n",
    "import traceback\n",
    "\n",
    "try:\n",
    "    float('123fff')\n",
    "\n",
    "except Exception:\n",
    "    print(traceback.print_exc())\n",
    "    \n",
    "print('Проехали')"
   ]
  },
  {
   "cell_type": "markdown",
   "metadata": {},
   "source": [
    "### Упражнение\n",
    "Создайте словарь stats = {'monday': 100, 'tuesday': 200}. \n",
    "\n",
    "Какой тип ошибки вызовет обращение stats['wednesday']?"
   ]
  },
  {
   "cell_type": "code",
   "execution_count": 2,
   "metadata": {},
   "outputs": [
    {
     "ename": "KeyError",
     "evalue": "'wednesday'",
     "output_type": "error",
     "traceback": [
      "\u001b[1;31m---------------------------------------------------------------------------\u001b[0m",
      "\u001b[1;31mKeyError\u001b[0m                                  Traceback (most recent call last)",
      "\u001b[1;32m<ipython-input-2-cdf8422f9915>\u001b[0m in \u001b[0;36m<module>\u001b[1;34m\u001b[0m\n\u001b[0;32m      1\u001b[0m \u001b[0mstats\u001b[0m \u001b[1;33m=\u001b[0m \u001b[1;33m{\u001b[0m\u001b[1;34m'monday'\u001b[0m\u001b[1;33m:\u001b[0m \u001b[1;36m100\u001b[0m\u001b[1;33m,\u001b[0m \u001b[1;34m'tuesday'\u001b[0m\u001b[1;33m:\u001b[0m \u001b[1;36m200\u001b[0m\u001b[1;33m}\u001b[0m\u001b[1;33m\u001b[0m\u001b[1;33m\u001b[0m\u001b[0m\n\u001b[1;32m----> 2\u001b[1;33m \u001b[0mprint\u001b[0m\u001b[1;33m(\u001b[0m\u001b[0mstats\u001b[0m\u001b[1;33m[\u001b[0m\u001b[1;34m'wednesday'\u001b[0m\u001b[1;33m]\u001b[0m\u001b[1;33m)\u001b[0m\u001b[1;33m\u001b[0m\u001b[1;33m\u001b[0m\u001b[0m\n\u001b[0m",
      "\u001b[1;31mKeyError\u001b[0m: 'wednesday'"
     ]
    }
   ],
   "source": [
    "stats = {'monday': 100, 'tuesday': 200}\n",
    "print(stats['wednesday'])"
   ]
  },
  {
   "cell_type": "code",
   "execution_count": null,
   "metadata": {},
   "outputs": [],
   "source": []
  },
  {
   "cell_type": "code",
   "execution_count": null,
   "metadata": {},
   "outputs": [],
   "source": []
  },
  {
   "cell_type": "markdown",
   "metadata": {},
   "source": [
    "### Блок finally"
   ]
  },
  {
   "cell_type": "code",
   "execution_count": null,
   "metadata": {},
   "outputs": [],
   "source": [
    "try:\n",
    "    print(stats[\"wednesday\"])\n",
    "    \n",
    "except IndexError:\n",
    "    print(\"Ошибка индекса\")\n",
    "    \n",
    "except KeyError:\n",
    "    print(\"Ошибка ключа\")\n",
    "    print(1/0)\n",
    "    \n",
    "finally:\n",
    "    print('Эта строчка будет выполнена всегда')"
   ]
  },
  {
   "cell_type": "markdown",
   "metadata": {},
   "source": [
    "### Более жизненный пример"
   ]
  },
  {
   "cell_type": "code",
   "execution_count": 37,
   "metadata": {},
   "outputs": [
    {
     "name": "stdout",
     "output_type": "stream",
     "text": [
      "Ошибка данных: ['05.10.16', '3:23', '1041']\n",
      "Ошибка данных: ['05.10.16', '23:19', '1041']\n",
      "Ошибка данных: ['01.10.16', '13:39', '1047']\n",
      "Ошибка данных: ['05.10.16', '21:41', '1047']\n",
      "Ошибка данных: ['04.10.16', '11:12', '1057']\n",
      "Ошибка данных: ['09.10.2016T', '2:47:00', '1057']\n",
      "Ошибка данных: ['01.10.16', '14:16', '1100']\n",
      "Ошибка данных: ['02.10.16', '1:39', '1100']\n",
      "Ошибка данных: ['02.10.16', '2:49', '1100']\n",
      "Ошибка данных: ['02.10.16', '13:05', '1100']\n",
      "Ошибка данных: ['03.10.16', '4:04', '1100']\n",
      "Ошибка данных: ['03.10.16', '6:58', '1100']\n",
      "Ошибка данных: ['03.10.16', '15:01', '1100']\n",
      "Ошибка данных: ['04.10.16', '23:43', '1100']\n",
      "Ошибка данных: ['05.10.16', '5:46', '1100']\n",
      "Ошибка данных: ['06.10.16', '0:31', '1100']\n",
      "Ошибка данных: ['06.10.16', '9:25', '1100']\n",
      "Ошибка данных: ['08.10.2016T', '15:15:00', '1100']\n",
      "Ошибка данных: ['04.10.16', '5:00', '1134']\n",
      "Ошибка данных: ['06.10.16', '12:01', '1134']\n",
      "Ошибка данных: ['01.10.16', '15:58', '1135']\n",
      "Ошибка данных: ['02.10.16', '3:19', '1135']\n",
      "Ошибка данных: ['02.10.16', '19:24', '1135']\n",
      "Ошибка данных: ['04.10.16', '10:40', '1135']\n",
      "Ошибка данных: ['06.10.16', '6:06', '1135']\n",
      "Ошибка данных: ['06.10.16', '16:08', '1135']\n",
      "Ошибка данных: ['08.10.2016T', '0:31:00', '1135']\n",
      "Ошибка данных: ['08.10.2016T', '10:16:00', '1135']\n",
      "Ошибка данных: ['08.10.2016T', '23:10:00', '1135']\n",
      "Ошибка данных: ['05.10.16', '13:55', '1203']\n",
      "Ошибка данных: ['06.10.16', '5:56', '1203']\n",
      "Ошибка данных: ['01.10.16', '4:41', '1226']\n",
      "Ошибка данных: ['03.10.16', '9:32', '1226']\n",
      "Ошибка данных: ['01.10.16', '9:02', '1233']\n",
      "Ошибка данных: ['01.10.16', '10:27', '1233']\n",
      "Ошибка данных: ['02.10.16', '4:27', '1246']\n",
      "Ошибка данных: ['02.10.16', '8:45', '1246']\n",
      "Ошибка данных: ['02.10.16', '16:58', '1246']\n",
      "Ошибка данных: ['02.10.16', '17:30', '1246']\n",
      "Ошибка данных: ['02.10.16', '19:46', '1246']\n",
      "Ошибка данных: ['03.10.16', '2:05', '1246']\n",
      "Ошибка данных: ['03.10.16', '2:57', '1246']\n",
      "Ошибка данных: ['03.10.16', '7:19', '1246']\n",
      "Ошибка данных: ['03.10.16', '12:15', '1246']\n",
      "Ошибка данных: ['03.10.16', '14:58', '1246']\n",
      "Ошибка данных: ['03.10.16', '19:43', '1246']\n",
      "Ошибка данных: ['04.10.16', '7:27', '1246']\n",
      "Ошибка данных: ['04.10.16', '9:08', '1246']\n",
      "Ошибка данных: ['04.10.16', '13:52', '1246']\n",
      "Ошибка данных: ['04.10.16', '16:34', '1246']\n",
      "Ошибка данных: ['05.10.16', '0:27', '1246']\n",
      "Ошибка данных: ['05.10.16', '6:36', '1246']\n",
      "Ошибка данных: ['05.10.16', '12:59', '1246']\n",
      "Ошибка данных: ['05.10.16', '16:52', '1246']\n",
      "Ошибка данных: ['05.10.16', '17:26', '1246']\n",
      "Ошибка данных: ['06.10.16', '6:48', '1246']\n",
      "Ошибка данных: ['08.10.2016T', '2:53:00', '1246']\n",
      "Ошибка данных: ['10.10.16', '0:59', '1246']\n",
      "Ошибка данных: ['02.10.16', '21:42', '1267']\n",
      "Ошибка данных: ['04.10.16', '9:02', '1267']\n",
      "Ошибка данных: ['04.10.16', '12:10', '1267']\n",
      "Ошибка данных: ['04.10.16', '15:40', '1267']\n",
      "Ошибка данных: ['04.10.16', '18:37', '1267']\n",
      "Ошибка данных: ['04.10.16', '21:29', '1267']\n",
      "Ошибка данных: ['05.10.16', '21:11', '1267']\n",
      "Ошибка данных: ['05.10.16', '22:09', '1267']\n",
      "Ошибка данных: ['06.10.16', '3:58', '1267']\n",
      "Ошибка данных: ['06.10.16', '11:16', '1267']\n",
      "Ошибка данных: ['06.10.16', '19:20', '1267']\n",
      "Ошибка данных: ['07.10.16', '10:18', '1267']\n",
      "Ошибка данных: ['08.10.2016T', '18:18:00', '1267']\n",
      "Ошибка данных: ['09.10.2016T', '4:41:00', '1267']\n",
      "Ошибка данных: ['09.10.2016T', '9:13:00', '1267']\n",
      "Ошибка данных: ['09.10.2016T', '15:37:00', '1267']\n",
      "Ошибка данных: ['09.10.2016T', '18:56:00', '1267']\n",
      "Ошибка данных: ['03.10.16', '14:10', '1318']\n",
      "Ошибка данных: ['03.10.16', '18:15', '1318']\n",
      "Ошибка данных: ['03.10.16', '18:27', '1318']\n",
      "Ошибка данных: ['04.10.16', '17:09', '1318']\n",
      "Ошибка данных: ['05.10.16', '11:07', '1318']\n",
      "Ошибка данных: ['06.10.16', '1:46', '1318']\n",
      "Ошибка данных: ['06.10.16', '22:29', '1318']\n",
      "Ошибка данных: ['07.10.16', '0:44', '1318']\n",
      "Ошибка данных: ['07.10.16', '10:17', '1318']\n",
      "Ошибка данных: ['07.10.16', '11:29', '1318']\n",
      "Ошибка данных: ['08.10.2016T', '23:18:00', '1318']\n",
      "Ошибка данных: ['09.10.2016T', '1:37:00', '1318']\n",
      "Ошибка данных: ['09.10.2016T', '7:48:00', '1318']\n",
      "Ошибка данных: ['09.10.2016T', '22:27:00', '1318']\n",
      "Ошибка данных: ['01.10.16', '17:01', '1424']\n",
      "Ошибка данных: ['03.10.16', '6:50', '1424']\n",
      "Ошибка данных: ['04.10.16', '5:27', '1424']\n",
      "Ошибка данных: ['04.10.16', '16:14', '1424']\n",
      "Ошибка данных: ['04.10.16', '18:21', '1424']\n",
      "Ошибка данных: ['05.10.16', '23:33', '1424']\n",
      "Ошибка данных: ['06.10.16', '7:27', '1424']\n",
      "Ошибка данных: ['07.10.16', '3:01', '1424']\n",
      "Ошибка данных: ['07.10.16', '16:08', '1424']\n",
      "Ошибка данных: ['07.10.16', '16:12', '1424']\n",
      "Ошибка данных: ['08.10.2016T', '12:41:00', '1424']\n",
      "Ошибка данных: ['08.10.2016T', '15:26:00', '1424']\n",
      "Ошибка данных: ['08.10.2016T', '17:21:00', '1424']\n",
      "Ошибка данных: ['09.10.2016T', '8:00:00', '1424']\n",
      "Ошибка данных: ['10.10.16', '1:24', '1424']\n",
      "198203147.8\n"
     ]
    }
   ],
   "source": [
    "with open('real_data.txt', 'r') as f:\n",
    "    sum_income = 0\n",
    "    for line in f:\n",
    "#         print(line)\n",
    "        line_lst = line.strip().split()\n",
    "        \n",
    "        \n",
    "        try:\n",
    "#             print(line_lst[3])\n",
    "            if ',' in line_lst[3]:\n",
    "#                 sum_income += int(line_lst[-1].replace(',', '.'))\n",
    "                float_number = float(line_lst[3].replace(',', '.'))\n",
    "#                 float_number = float(float_number)\n",
    "#                 print(float_number, type(float_number))\n",
    "                sum_income += float_number\n",
    "                \n",
    "            else:\n",
    "                sum_income += float(line_lst[3])\n",
    "        except:\n",
    "            print(f'Ошибка данных: {line_lst}')\n",
    "print(round(sum_income, 3))"
   ]
  },
  {
   "cell_type": "markdown",
   "metadata": {},
   "source": [
    "Чем прекрасен этот файл:\n",
    "1. Даты имеют разный формат: за 8 и 9 октября формат с \"09.10.2016 21:40\" сменился на \"09.10.2016T 21:40:00\" (добавилась буква T и секунды). Разработчики объяснили этот тем, что сбились настройки после обновления одной из баз данных.\n",
    "2. У покупок некоторых пользователей неизвестно значение выручки, из-за чего количество столбцов в строке уменьшается на один.\n",
    "3. У некоторых строк реальная сумма покупки умножена на миллион. Так иногда действительно делают, чтобы избежать дробных чисел и работать только с целыми."
   ]
  },
  {
   "cell_type": "markdown",
   "metadata": {},
   "source": [
    "### Упражнение\n",
    "Посчитайте сумму выручки из третьего столбца. Пока не обращайте внимания на помноженную на миллион выручку."
   ]
  },
  {
   "cell_type": "code",
   "execution_count": 15,
   "metadata": {},
   "outputs": [
    {
     "name": "stdout",
     "output_type": "stream",
     "text": [
      "1424\n"
     ]
    }
   ],
   "source": [
    "        "
   ]
  },
  {
   "cell_type": "code",
   "execution_count": null,
   "metadata": {},
   "outputs": [],
   "source": []
  },
  {
   "cell_type": "code",
   "execution_count": null,
   "metadata": {},
   "outputs": [],
   "source": []
  },
  {
   "cell_type": "markdown",
   "metadata": {},
   "source": [
    "# Даты"
   ]
  },
  {
   "cell_type": "code",
   "execution_count": 11,
   "metadata": {},
   "outputs": [],
   "source": [
    "# иногда импортируют так\n",
    "import datetime"
   ]
  },
  {
   "cell_type": "code",
   "execution_count": null,
   "metadata": {},
   "outputs": [],
   "source": [
    "# можно и так\n",
    "import datetime as dt"
   ]
  },
  {
   "cell_type": "code",
   "execution_count": 13,
   "metadata": {},
   "outputs": [],
   "source": [
    "# у нас будет вариант покороче (но это не одно и то же)\n",
    "from datetime import datetime"
   ]
  },
  {
   "cell_type": "code",
   "execution_count": null,
   "metadata": {},
   "outputs": [],
   "source": [
    "date_string = '09.05.2018  09:00'"
   ]
  },
  {
   "cell_type": "code",
   "execution_count": null,
   "metadata": {},
   "outputs": [],
   "source": [
    "# сейчас date_string это просто строка\n",
    "type(date_string)"
   ]
  },
  {
   "cell_type": "code",
   "execution_count": null,
   "metadata": {},
   "outputs": [],
   "source": [
    "datetime.strptime('09.05.2018 09:00', '%d.%m.%Y %H:%M')"
   ]
  },
  {
   "cell_type": "code",
   "execution_count": null,
   "metadata": {},
   "outputs": [],
   "source": [
    "# https://docs.python.org/3/library/datetime.html\n",
    "\n",
    "date_datetime = datetime.strptime( date_string, '%d.%m.%Y %H:%M' )\n",
    "date_datetime"
   ]
  },
  {
   "cell_type": "code",
   "execution_count": null,
   "metadata": {},
   "outputs": [],
   "source": [
    "# теперь можем работать с датами\n",
    "type(date_datetime)"
   ]
  },
  {
   "cell_type": "code",
   "execution_count": null,
   "metadata": {},
   "outputs": [],
   "source": [
    "# получить номер года и часа\n",
    "date_datetime.year, date_datetime.hour"
   ]
  },
  {
   "cell_type": "code",
   "execution_count": null,
   "metadata": {},
   "outputs": [],
   "source": [
    "# день недели\n",
    "date_datetime.weekday()"
   ]
  },
  {
   "cell_type": "code",
   "execution_count": null,
   "metadata": {},
   "outputs": [],
   "source": [
    "# сегодня\n",
    "datetime.now()"
   ]
  },
  {
   "cell_type": "markdown",
   "metadata": {},
   "source": [
    "### Упражнение\n",
    "С помощью метода datetime.strptime переведите строку 'May 25 2017 5:00AM' в формат datetime."
   ]
  },
  {
   "cell_type": "code",
   "execution_count": 14,
   "metadata": {},
   "outputs": [
    {
     "data": {
      "text/plain": [
       "datetime.datetime(2017, 5, 25, 5, 0)"
      ]
     },
     "execution_count": 14,
     "metadata": {},
     "output_type": "execute_result"
    }
   ],
   "source": [
    "date_str = 'May 25 2017 5:00AM'\n",
    "datetime.strptime(date_str, '%B %d %Y %I:%M%p')"
   ]
  },
  {
   "cell_type": "code",
   "execution_count": 18,
   "metadata": {},
   "outputs": [
    {
     "ename": "TypeError",
     "evalue": "'datetime.datetime' object is not callable",
     "output_type": "error",
     "traceback": [
      "\u001b[1;31m---------------------------------------------------------------------------\u001b[0m",
      "\u001b[1;31mTypeError\u001b[0m                                 Traceback (most recent call last)",
      "\u001b[1;32m<ipython-input-18-f34e9391a729>\u001b[0m in \u001b[0;36m<module>\u001b[1;34m\u001b[0m\n\u001b[0;32m      1\u001b[0m \u001b[0mdate_str\u001b[0m \u001b[1;33m=\u001b[0m \u001b[1;34m'2018-09-01T09:30:00'\u001b[0m\u001b[1;33m\u001b[0m\u001b[1;33m\u001b[0m\u001b[0m\n\u001b[0;32m      2\u001b[0m \u001b[0mdate\u001b[0m \u001b[1;33m=\u001b[0m \u001b[0mdatetime\u001b[0m\u001b[1;33m.\u001b[0m\u001b[0mstrptime\u001b[0m\u001b[1;33m(\u001b[0m\u001b[0mdate_str\u001b[0m\u001b[1;33m,\u001b[0m \u001b[1;34m'%Y-%m-%dT%H:%M:%S'\u001b[0m\u001b[1;33m)\u001b[0m\u001b[1;33m\u001b[0m\u001b[1;33m\u001b[0m\u001b[0m\n\u001b[1;32m----> 3\u001b[1;33m \u001b[0mprint\u001b[0m\u001b[1;33m(\u001b[0m\u001b[0mdate\u001b[0m\u001b[1;33m(\u001b[0m\u001b[0mhour\u001b[0m \u001b[1;33m=\u001b[0m \u001b[1;36m3\u001b[0m\u001b[1;33m)\u001b[0m\u001b[1;33m)\u001b[0m\u001b[1;33m\u001b[0m\u001b[1;33m\u001b[0m\u001b[0m\n\u001b[0m",
      "\u001b[1;31mTypeError\u001b[0m: 'datetime.datetime' object is not callable"
     ]
    }
   ],
   "source": [
    "date_str = '2018-09-01T09:30:00'\n",
    "date = datetime.strptime(date_str, '%Y-%m-%dT%H:%M:%S')\n",
    "print(date(hour = 3))"
   ]
  },
  {
   "cell_type": "code",
   "execution_count": null,
   "metadata": {},
   "outputs": [],
   "source": []
  },
  {
   "cell_type": "markdown",
   "metadata": {},
   "source": [
    "### Прибавление интервала к датам"
   ]
  },
  {
   "cell_type": "code",
   "execution_count": null,
   "metadata": {},
   "outputs": [],
   "source": [
    "from datetime import timedelta"
   ]
  },
  {
   "cell_type": "code",
   "execution_count": null,
   "metadata": {},
   "outputs": [],
   "source": [
    "start_date = '2018-01-01'\n",
    "end_date = '2018-01-07'"
   ]
  },
  {
   "cell_type": "code",
   "execution_count": null,
   "metadata": {},
   "outputs": [],
   "source": [
    "type(start_date)"
   ]
  },
  {
   "cell_type": "code",
   "execution_count": null,
   "metadata": {},
   "outputs": [],
   "source": [
    "start_date_datetime = datetime.strptime(start_date, '%Y-%m-%d')\n",
    "start_date_datetime"
   ]
  },
  {
   "cell_type": "code",
   "execution_count": null,
   "metadata": {},
   "outputs": [],
   "source": [
    "start_date_datetime + timedelta(days=1)"
   ]
  },
  {
   "cell_type": "code",
   "execution_count": null,
   "metadata": {},
   "outputs": [],
   "source": [
    "start_date_datetime + timedelta(days=-7, minutes=-1)"
   ]
  },
  {
   "cell_type": "markdown",
   "metadata": {},
   "source": [
    "### Упражнение\n",
    "Дана дата в формате '2018-09-01T09:30:00'. Прибавьте к ней 12 часов 15минут и 3 секунды."
   ]
  },
  {
   "cell_type": "code",
   "execution_count": 26,
   "metadata": {},
   "outputs": [
    {
     "name": "stdout",
     "output_type": "stream",
     "text": [
      "2018-09-01 21:45:03\n"
     ]
    }
   ],
   "source": [
    "from datetime import datetime\n",
    "date_str = '2018-09-01T09:30:00'\n",
    "date = datetime.strptime(date_str, '%Y-%m-%dT%H:%M:%S')\n",
    "print(date + timedelta(hours = +12, minutes = +15, seconds = +3))\n"
   ]
  },
  {
   "cell_type": "code",
   "execution_count": null,
   "metadata": {},
   "outputs": [],
   "source": []
  },
  {
   "cell_type": "code",
   "execution_count": null,
   "metadata": {},
   "outputs": [],
   "source": []
  },
  {
   "cell_type": "markdown",
   "metadata": {},
   "source": [
    "### Перевод обратно в строку"
   ]
  },
  {
   "cell_type": "code",
   "execution_count": null,
   "metadata": {},
   "outputs": [],
   "source": [
    "date = datetime(2018, 9, 1)\n",
    "date"
   ]
  },
  {
   "cell_type": "code",
   "execution_count": null,
   "metadata": {},
   "outputs": [],
   "source": [
    "date.strftime('%Y-%m-%d')"
   ]
  },
  {
   "cell_type": "code",
   "execution_count": null,
   "metadata": {
    "scrolled": false
   },
   "outputs": [],
   "source": [
    "date.strftime('%B %d %Y %I:%M%p')"
   ]
  },
  {
   "cell_type": "code",
   "execution_count": null,
   "metadata": {},
   "outputs": [],
   "source": [
    "datetime.now().strftime('%Y-%m-01')"
   ]
  },
  {
   "cell_type": "code",
   "execution_count": null,
   "metadata": {},
   "outputs": [],
   "source": [
    "# как получить первый день месяца\n",
    "\n",
    "date.strftime('%Y-%m-01')"
   ]
  },
  {
   "cell_type": "code",
   "execution_count": 29,
   "metadata": {},
   "outputs": [],
   "source": [
    "start_date = '2018-01-01'\n",
    "end_date = '2018-01-07'"
   ]
  },
  {
   "cell_type": "code",
   "execution_count": 30,
   "metadata": {},
   "outputs": [
    {
     "data": {
      "text/plain": [
       "('2018-01-01', '2018-01-07')"
      ]
     },
     "execution_count": 30,
     "metadata": {},
     "output_type": "execute_result"
    }
   ],
   "source": [
    "start_date, end_date"
   ]
  },
  {
   "cell_type": "code",
   "execution_count": 31,
   "metadata": {},
   "outputs": [
    {
     "name": "stdout",
     "output_type": "stream",
     "text": [
      "2018-01-01 00:00:00 2018-01-07 00:00:00\n"
     ]
    }
   ],
   "source": [
    "start_date_dt = datetime.strptime(start_date, '%Y-%m-%d')\n",
    "end_date_dt = datetime.strptime(end_date, '%Y-%m-%d')\n",
    "\n",
    "print(start_date_dt, end_date_dt)"
   ]
  },
  {
   "cell_type": "code",
   "execution_count": 32,
   "metadata": {},
   "outputs": [
    {
     "name": "stdout",
     "output_type": "stream",
     "text": [
      "1\n",
      "2\n",
      "3\n",
      "4\n",
      "5\n",
      "6\n",
      "7\n",
      "8\n",
      "9\n",
      "10\n"
     ]
    }
   ],
   "source": [
    "i = 0\n",
    "\n",
    "while i < 10:\n",
    "    # ...\n",
    "    i += 1\n",
    "    print(i)"
   ]
  },
  {
   "cell_type": "code",
   "execution_count": 33,
   "metadata": {
    "scrolled": true
   },
   "outputs": [
    {
     "name": "stdout",
     "output_type": "stream",
     "text": [
      "2018-01-01\n",
      "2018-01-02\n",
      "2018-01-03\n",
      "2018-01-04\n",
      "2018-01-05\n",
      "2018-01-06\n",
      "2018-01-07\n"
     ]
    }
   ],
   "source": [
    "current_dt = start_date_dt\n",
    "\n",
    "while current_dt <= end_date_dt:\n",
    "    print(current_dt.strftime('%Y-%m-%d'))\n",
    "    \n",
    "    current_dt += timedelta(days=1)"
   ]
  },
  {
   "cell_type": "code",
   "execution_count": null,
   "metadata": {},
   "outputs": [],
   "source": [
    "current_dt = start_date_dt\n",
    "\n",
    "while current_dt.strftime('%Y-%m-%d') <= end_date:\n",
    "    print(current_dt.strftime('%Y-%m-%d'))\n",
    "    \n",
    "    current_dt += timedelta(days=1)"
   ]
  },
  {
   "cell_type": "code",
   "execution_count": null,
   "metadata": {},
   "outputs": [],
   "source": [
    "# можно и с помощью list comprehension\n",
    "[(start_date_dt + timedelta(days=x)).strftime('%Y-%m-%d') for x in range(10)]"
   ]
  },
  {
   "cell_type": "markdown",
   "metadata": {},
   "source": [
    "### Упражнение\n",
    "Напишите алгоритм, который \"пробегает\" период 1 до 7 сентября по часам. Формат вывода '06.01.2018 23:00:00'."
   ]
  },
  {
   "cell_type": "code",
   "execution_count": null,
   "metadata": {},
   "outputs": [],
   "source": []
  },
  {
   "cell_type": "code",
   "execution_count": null,
   "metadata": {},
   "outputs": [],
   "source": []
  },
  {
   "cell_type": "code",
   "execution_count": null,
   "metadata": {},
   "outputs": [],
   "source": []
  },
  {
   "cell_type": "markdown",
   "metadata": {},
   "source": [
    "### Нагрузка на систему по часам"
   ]
  },
  {
   "cell_type": "code",
   "execution_count": 34,
   "metadata": {},
   "outputs": [
    {
     "name": "stdout",
     "output_type": "stream",
     "text": [
      "2018-04-30T21:37:41Z\n"
     ]
    },
    {
     "data": {
      "text/plain": [
       "{}"
      ]
     },
     "execution_count": 34,
     "metadata": {},
     "output_type": "execute_result"
    }
   ],
   "source": [
    "stats = {}\n",
    "\n",
    "with open('logs.csv', 'r') as f:\n",
    "    for line in f:\n",
    "        line = line.strip()\n",
    "        print(line)\n",
    "        \n",
    "        break\n",
    "        \n",
    "        # вычисления нагрузки на систему...\n",
    "        \n",
    "# результат\n",
    "stats"
   ]
  },
  {
   "cell_type": "code",
   "execution_count": null,
   "metadata": {},
   "outputs": [],
   "source": [
    "# а в процентном соотношении?\n"
   ]
  },
  {
   "cell_type": "code",
   "execution_count": null,
   "metadata": {},
   "outputs": [],
   "source": []
  },
  {
   "cell_type": "code",
   "execution_count": null,
   "metadata": {},
   "outputs": [],
   "source": []
  },
  {
   "cell_type": "code",
   "execution_count": null,
   "metadata": {},
   "outputs": [],
   "source": []
  },
  {
   "cell_type": "markdown",
   "metadata": {},
   "source": [
    "###  Unixtime\n",
    "Количество секунд, прошедших с 1 января 1970 года по UTC"
   ]
  },
  {
   "cell_type": "code",
   "execution_count": null,
   "metadata": {},
   "outputs": [],
   "source": [
    "import time\n",
    "from datetime import date\n",
    "from datetime import datetime"
   ]
  },
  {
   "cell_type": "code",
   "execution_count": null,
   "metadata": {},
   "outputs": [],
   "source": [
    "d = date(2019, 3, 11)\n",
    "\n",
    "unixtime = time.mktime(d.timetuple())\n",
    "unixtime"
   ]
  },
  {
   "cell_type": "code",
   "execution_count": null,
   "metadata": {},
   "outputs": [],
   "source": [
    "from datetime import datetime"
   ]
  },
  {
   "cell_type": "code",
   "execution_count": null,
   "metadata": {},
   "outputs": [],
   "source": [
    "datetime.fromtimestamp(1552251600)"
   ]
  },
  {
   "cell_type": "markdown",
   "metadata": {},
   "source": [
    "На практике все сложнее https://habr.com/ru/post/452584/"
   ]
  },
  {
   "cell_type": "markdown",
   "metadata": {},
   "source": [
    "# Задача про интервалы\n",
    "Имеется список отсортированных по возрастанию целых чисел data. А также целое число n, которое лежит между минимальным и максимальным значениями из списка data. Вам необходимо определить минимальное ближайшее число к n из списка data.\n",
    "\n",
    "Пример:\n",
    "```python\n",
    "data = [1, 7, 17, 23, 27, 35, 65]\n",
    "n = 20\n",
    "```\n",
    "\n",
    "Ответ: 17\n",
    "\n",
    "Подобные алгоритмы используются для классификации объекта по значению одной метрики. Например, это может пригодиться для классификации учащегося по его возрасту:\n",
    "```python\n",
    "ages = {\n",
    "    1: 'дети',\n",
    "    7: 'школьники',\n",
    "    17: 'студенты',\n",
    "    23: 'аспиранты',\n",
    "    27: 'молодые ученые',\n",
    "    35: 'преподаватели',\n",
    "    65: 'пенсионеры',\n",
    "}\n",
    "```\n",
    "\n",
    "Итого напишите функцию, которая по списку data и числу n возвращает минимальное ближайшее к n число. Список может быть любым, поэтому не рассчитывайте на написание цепочки условий через if.\n",
    "\n",
    "Бонусные варианты:\n",
    "1. Рассмотрите ситуацию, в которой при фиксированном списке data вам необходимо классифицировать большое количество пользователей с разными значениями n. Например, вам необходимо классифицировать базу из 100 миллионов человек по возрастам по словарю ages из примера выше. Можно ли в таком случае ускорить проход по такому числу пользователей?\n",
    "\n",
    "2. Если вы решали основное задание перебором элементов списка data и сравнением с n, то сложность такого алгоритма O(N). Т. е. при увеличении числа элементов списка data в N раз время работы алгоритма тоже вырастет в N раз. Попробуйте ускорить этот алгоритм. Например, с помощью аналога бинарного поиска."
   ]
  }
 ],
 "metadata": {
  "kernelspec": {
   "display_name": "Python 3",
   "language": "python",
   "name": "python3"
  },
  "language_info": {
   "codemirror_mode": {
    "name": "ipython",
    "version": 3
   },
   "file_extension": ".py",
   "mimetype": "text/x-python",
   "name": "python",
   "nbconvert_exporter": "python",
   "pygments_lexer": "ipython3",
   "version": "3.8.3"
  }
 },
 "nbformat": 4,
 "nbformat_minor": 2
}
