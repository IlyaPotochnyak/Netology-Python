{
 "cells": [
  {
   "cell_type": "code",
   "execution_count": 13,
   "metadata": {},
   "outputs": [
    {
     "name": "stdout",
     "output_type": "stream",
     "text": [
      "Ski package\n"
     ]
    }
   ],
   "source": [
    "a = 20\n",
    "b = 201\n",
    "c = 12\n",
    "\n",
    "if a > 200 or b > 200 or c > 200:\n",
    "    print ('Ski package')\n",
    "elif a < 15 and b < 15 and c < 15:\n",
    "    print ('Box n1')\n",
    "elif 15 < a < 50 or 15 < b < 50 or 15 < c < 50:\n",
    "    print ('Box n2')\n",
    "else:\n",
    "    print ('Stadart box n3')\n"
   ]
  },
  {
   "cell_type": "code",
   "execution_count": 14,
   "metadata": {},
   "outputs": [
    {
     "data": {
      "text/plain": [
       "1048576"
      ]
     },
     "execution_count": 14,
     "metadata": {},
     "output_type": "execute_result"
    }
   ],
   "source": [
    "2 ** 20"
   ]
  },
  {
   "cell_type": "code",
   "execution_count": 4,
   "metadata": {},
   "outputs": [
    {
     "name": "stdout",
     "output_type": "stream",
     "text": [
      "asd\n",
      "asd2ghjk\n"
     ]
    }
   ],
   "source": [
    "string = 'asdfghjk'\n",
    "print (string[:3])\n",
    "if 'f' in string:\n",
    "    new_str = string.replace('f', '2')\n",
    "    print(new_str)"
   ]
  },
  {
   "cell_type": "code",
   "execution_count": 5,
   "metadata": {},
   "outputs": [
    {
     "name": "stdout",
     "output_type": "stream",
     "text": [
      "['a', 'b']\n"
     ]
    }
   ],
   "source": [
    "lst = [\n",
    "    1,\n",
    "    2,\n",
    "    ['a', 'b']\n",
    "]\n",
    "\n",
    "print (lst[-1])\n"
   ]
  },
  {
   "cell_type": "code",
   "execution_count": 4,
   "metadata": {},
   "outputs": [
    {
     "name": "stdout",
     "output_type": "stream",
     "text": [
      "Hello World\n"
     ]
    }
   ],
   "source": [
    "my_str = 'Hello world'\n",
    "my_list = [i for i in my_str]\n",
    "my_list[6] = 'W'\n",
    "print (''.join(my_list))"
   ]
  },
  {
   "cell_type": "code",
   "execution_count": 3,
   "metadata": {},
   "outputs": [
    {
     "data": {
      "text/plain": [
       "['H', 'e', 'l', 'l', 'o', ' ', 'w', 'o', 'r', 'l', 'd']"
      ]
     },
     "execution_count": 3,
     "metadata": {},
     "output_type": "execute_result"
    }
   ],
   "source": [
    "my_list"
   ]
  },
  {
   "cell_type": "code",
   "execution_count": 8,
   "metadata": {},
   "outputs": [
    {
     "name": "stdout",
     "output_type": "stream",
     "text": [
      "<class 'list'>\n"
     ]
    },
    {
     "data": {
      "text/plain": [
       "[0, 1, 2, 4, 5, False]"
      ]
     },
     "execution_count": 8,
     "metadata": {},
     "output_type": "execute_result"
    }
   ],
   "source": [
    "numb = [0, 1, 2, 4, 5]\n",
    "# dct = {a: numb}\n",
    "numb.append(False)\n",
    "print(type(numb))\n",
    "numb\n",
    "\n"
   ]
  },
  {
   "cell_type": "code",
   "execution_count": 9,
   "metadata": {},
   "outputs": [
    {
     "name": "stdout",
     "output_type": "stream",
     "text": [
      "[1, 2, 3, 4] [1, 2, 3]\n"
     ]
    }
   ],
   "source": [
    "lst_1 = [1, 2, 3]\n",
    "lst_2 = lst_1.copy()\n",
    "lst_2 += [4]\n",
    "print(lst_2, lst_1)"
   ]
  },
  {
   "cell_type": "code",
   "execution_count": 12,
   "metadata": {},
   "outputs": [
    {
     "name": "stdout",
     "output_type": "stream",
     "text": [
      "a/b/2\n"
     ]
    }
   ],
   "source": [
    "print('a', 'b', 2, sep='/')"
   ]
  },
  {
   "cell_type": "code",
   "execution_count": 20,
   "metadata": {},
   "outputs": [
    {
     "name": "stdout",
     "output_type": "stream",
     "text": [
      "1 2 b 4 c a d\n"
     ]
    }
   ],
   "source": [
    "my_lst = ['a', 'b', 'a', 'c', 'd', 'c']\n",
    "my_set = set(my_lst)\n",
    "my_set1 = (1, 2, 4)\n",
    "\n",
    "my_set.add('e')\n",
    "my_set.update(my_set1)\n",
    "my_set.discard('e')\n",
    "\n",
    "\n",
    "print(*my_set)"
   ]
  },
  {
   "cell_type": "code",
   "execution_count": 23,
   "metadata": {},
   "outputs": [
    {
     "name": "stdout",
     "output_type": "stream",
     "text": [
      "{1: 'q', 2: 'w', 3: 'e', 4: ['r', 't']}\n"
     ]
    }
   ],
   "source": [
    "my_dict = {1: 'q', 2: 'w', 3: 'e'}\n",
    "my_dict[4] = ['r', 't']\n",
    "# my_dict['f'] += 3\n",
    "print(my_dict)"
   ]
  },
  {
   "cell_type": "code",
   "execution_count": 24,
   "metadata": {},
   "outputs": [
    {
     "data": {
      "text/plain": [
       "['odd', 'even', 'odd', 'even', 'even', 'even', 'even']"
      ]
     },
     "execution_count": 24,
     "metadata": {},
     "output_type": "execute_result"
    }
   ],
   "source": [
    "# lst_1 = [1, 2, 3, 4]\n",
    "lst_1 = '1234444'\n",
    "odd_even_numbers = lambda x: 'even' if int(x) % 2 == 0 else 'odd'\n",
    "lst_2 = list(map(odd_even_numbers, lst_1))\n",
    "lst_2"
   ]
  },
  {
   "cell_type": "code",
   "execution_count": 4,
   "metadata": {},
   "outputs": [
    {
     "name": "stdout",
     "output_type": "stream",
     "text": [
      "1-2\n"
     ]
    }
   ],
   "source": [
    "a = {\"1\": 11, \"2\": 12}\n",
    "b = [1, 2, 3]\n",
    "x = \"-\".join(a)\n",
    "print(x)"
   ]
  },
  {
   "cell_type": "code",
   "execution_count": 3,
   "metadata": {},
   "outputs": [
    {
     "name": "stdout",
     "output_type": "stream",
     "text": [
      "['a', 'c']\n"
     ]
    }
   ],
   "source": [
    "alst = ['a', 'b', 'c']\n",
    "alst.pop(1)\n",
    "print(alst)"
   ]
  },
  {
   "cell_type": "code",
   "execution_count": 12,
   "metadata": {},
   "outputs": [],
   "source": [
    "# def is_square(n):\n",
    "#     if n < 0:\n",
    "#         return False\n",
    "#     res =  n ** (1/2) # fix me\n",
    "#     return not bool(res - int(res))\n",
    "\n",
    "# is_square(10)"
   ]
  },
  {
   "cell_type": "code",
   "execution_count": 16,
   "metadata": {},
   "outputs": [
    {
     "data": {
      "text/plain": [
       "0.0"
      ]
     },
     "execution_count": 16,
     "metadata": {},
     "output_type": "execute_result"
    }
   ],
   "source": [
    " (9**0.5) % 1\n",
    "\n"
   ]
  },
  {
   "cell_type": "code",
   "execution_count": 22,
   "metadata": {},
   "outputs": [
    {
     "data": {
      "text/plain": [
       "False"
      ]
     },
     "execution_count": 22,
     "metadata": {},
     "output_type": "execute_result"
    }
   ],
   "source": [
    "def is_valid_walk(walk):\n",
    "    #determine if walk is valid\n",
    "    \n",
    "    if len(walk) != 10:\n",
    "        return False\n",
    "#     a = 0\n",
    "#     b = 0\n",
    "    \n",
    "#     for i in walk:\n",
    "#         if i == ''\n",
    "    return walk.count('n') == walk.count('s') and walk.count('e') == walk.count('w')\n",
    "\n",
    "\n",
    "is_valid_walk(['n','s','n','s','n','s','n','s'])        "
   ]
  },
  {
   "cell_type": "code",
   "execution_count": 4,
   "metadata": {},
   "outputs": [],
   "source": [
    "class Dog():\n",
    "    \"\"\"Простая модель собаки\"\"\"\n",
    "    \n",
    "    def __init__(self, name, age):\n",
    "        \"\"\"Инициализируем атрибуты имя и возраст\"\"\"\n",
    "        self.name = name\n",
    "        self.age = age\n",
    "        \n",
    "    def sit(self):\n",
    "        \"\"\"Собака будет садиться по команде\"\"\"\n",
    "        print(self.name .title() + \" собака села\")\n",
    "        \n",
    "    def jump(self):\n",
    "        \"\"\"Собака будет прыгать по команде\"\"\"\n",
    "        print(self.name .title() + \" собака прыгнула\")\n",
    "        \n",
    "my_dog = Dog('Topik', 4)\n",
    "        "
   ]
  },
  {
   "cell_type": "code",
   "execution_count": 2,
   "metadata": {},
   "outputs": [
    {
     "name": "stdout",
     "output_type": "stream",
     "text": [
      "4\n"
     ]
    }
   ],
   "source": [
    "print(my_dog.age)"
   ]
  },
  {
   "cell_type": "code",
   "execution_count": 5,
   "metadata": {},
   "outputs": [
    {
     "name": "stdout",
     "output_type": "stream",
     "text": [
      "Topik собака прыгнула\n"
     ]
    }
   ],
   "source": [
    "my_dog.jump()"
   ]
  },
  {
   "cell_type": "code",
   "execution_count": 23,
   "metadata": {},
   "outputs": [],
   "source": [
    "class Car():\n",
    "    \"\"\"Класс по созданию автомобиля\"\"\"\n",
    "    def __init__(self, make, model, year):\n",
    "        \"\"\"Инициализация атрибутов автомобиля\"\"\"\n",
    "        self.make = make\n",
    "        self.model = model\n",
    "        self.year = year\n",
    "        self.odometer_reading = 0\n",
    "    \n",
    "    def description_name(self):\n",
    "        \"\"\"Возвращаем описание автомобиля\"\"\"\n",
    "        desc = str(self.year) + ' ' + self.make + ' ' + self.model\n",
    "        \n",
    "        return desc.title()\n",
    "    \n",
    "    def read_odometer(self):\n",
    "        \"\"\"Выводим пробег авто\"\"\"\n",
    "        print('Пробег этого авто', self.odometer_reading, 'км')\n",
    "        \n",
    "    def update_odometer(self, km):\n",
    "        \"\"\"Устанавливаем значение на одометре\"\"\"\n",
    "        self.odometer_reading = km\n",
    "\n",
    "my_car = Car('Audi', 'A4', 2017)\n",
    "    "
   ]
  },
  {
   "cell_type": "code",
   "execution_count": 20,
   "metadata": {},
   "outputs": [
    {
     "name": "stdout",
     "output_type": "stream",
     "text": [
      "2017 Audi A4\n"
     ]
    }
   ],
   "source": [
    "print(my_car.description_name())"
   ]
  },
  {
   "cell_type": "code",
   "execution_count": 21,
   "metadata": {},
   "outputs": [
    {
     "name": "stdout",
     "output_type": "stream",
     "text": [
      "Пробег этого авто 0 км\n"
     ]
    }
   ],
   "source": [
    "my_car.read_odometer()"
   ]
  },
  {
   "cell_type": "code",
   "execution_count": 22,
   "metadata": {},
   "outputs": [
    {
     "name": "stdout",
     "output_type": "stream",
     "text": [
      "Пробег этого авто 30 км\n"
     ]
    }
   ],
   "source": [
    "my_car.odometer_reading = 30\n",
    "my_car.read_odometer()"
   ]
  },
  {
   "cell_type": "code",
   "execution_count": 25,
   "metadata": {},
   "outputs": [
    {
     "name": "stdout",
     "output_type": "stream",
     "text": [
      "Пробег этого авто 500 км\n"
     ]
    }
   ],
   "source": [
    "my_car.update_odometer(500)\n",
    "my_car.read_odometer()"
   ]
  },
  {
   "cell_type": "code",
   "execution_count": 62,
   "metadata": {},
   "outputs": [],
   "source": [
    "class Battery():\n",
    "    \"\"\"Простая модель аккумулятора для электромобиля\"\"\"\n",
    "    def __init__(self, battery = 100):\n",
    "        self.battery = battery\n",
    "        \n",
    "    def description_battery(self):\n",
    "        \"\"\"Выводит информацию о мощности батареи\"\"\"\n",
    "        return 'Мощность батареи автомобиля ' + str(self.battery) + ' кВт'\n",
    "        \n",
    "class ElectricCar(Car):\n",
    "    \"\"\"Аспекты для электромобиля\"\"\"\n",
    "    def __init__(self, make, model, year):\n",
    "        \"\"\"Инициализация атрибутов класса родителя\"\"\"\n",
    "        super().__init__(make, model, year)\n",
    "        self.battery = Battery()\n",
    "        \n",
    "    \n",
    "    def description_name(self):\n",
    "        \"\"\"Переопределение родительсого метода\"\"\"\n",
    "        desc = str(self.year) + ' ' + self.make + ' ' + self.model + ' ' + self.battery.description_battery()\n",
    "        \n",
    "        return desc.title()\n",
    "\n",
    "\n",
    "        "
   ]
  },
  {
   "cell_type": "code",
   "execution_count": 63,
   "metadata": {},
   "outputs": [
    {
     "name": "stdout",
     "output_type": "stream",
     "text": [
      "2017 Tesla S Мощность Батареи Автомобиля 100 Квт\n"
     ]
    }
   ],
   "source": [
    "tesla = ElectricCar('Tesla', 's', 2017)\n",
    "print(tesla.description_name())"
   ]
  },
  {
   "cell_type": "code",
   "execution_count": 37,
   "metadata": {},
   "outputs": [
    {
     "name": "stdout",
     "output_type": "stream",
     "text": [
      "Мощность батареи автомобиля 100 кВт\n"
     ]
    }
   ],
   "source": [
    "tesla.description_battery()"
   ]
  },
  {
   "cell_type": "code",
   "execution_count": 1,
   "metadata": {},
   "outputs": [
    {
     "name": "stdout",
     "output_type": "stream",
     "text": [
      "[3]\n"
     ]
    }
   ],
   "source": [
    "a = []\n",
    "a.append(3)\n",
    "print(a)"
   ]
  },
  {
   "cell_type": "code",
   "execution_count": 18,
   "metadata": {},
   "outputs": [
    {
     "data": {
      "text/plain": [
       "False"
      ]
     },
     "execution_count": 18,
     "metadata": {},
     "output_type": "execute_result"
    }
   ],
   "source": [
    "def is_isogram(string):\n",
    "    #your code here\n",
    "    for i in string:\n",
    "        if string.lower().count(i.lower()) > 1:\n",
    "            return False\n",
    "        \n",
    "    return True\n",
    "\n",
    "is_isogram('DerSmatoglyphics')"
   ]
  },
  {
   "cell_type": "code",
   "execution_count": 2,
   "metadata": {},
   "outputs": [
    {
     "data": {
      "text/plain": [
       "False"
      ]
     },
     "execution_count": 2,
     "metadata": {},
     "output_type": "execute_result"
    }
   ],
   "source": [
    "'asdf'.startswith('b')"
   ]
  },
  {
   "cell_type": "code",
   "execution_count": null,
   "metadata": {},
   "outputs": [],
   "source": [
    "def zero(): return 0 #your code here\n",
    "def one(): return 1 #your code here\n",
    "def two(): return 2 #your code here\n",
    "def three(): return 3 #your code here\n",
    "def four(): return 4 #your code here\n",
    "def five(): return 5 #your code here\n",
    "def six(): return 6 #your code here\n",
    "def seven(): return 7#your code here\n",
    "def eight(): return 8 #your code here\n",
    "def nine(): return 9 #your code here\n",
    "\n",
    "def plus()"
   ]
  },
  {
   "cell_type": "code",
   "execution_count": 15,
   "metadata": {},
   "outputs": [
    {
     "data": {
      "text/plain": [
       "'Stop Spinning My Words'"
      ]
     },
     "execution_count": 15,
     "metadata": {},
     "output_type": "execute_result"
    }
   ],
   "source": [
    "def spin_words(sentence):\n",
    "#     words = [word for word in sentence.split(' ') \n",
    "    words = []\n",
    "    for word in sentence.split(' '):\n",
    "        if len(word) >= 5:\n",
    "            word  = [letter for letter in word]\n",
    "            word.reverse()\n",
    "            word = ''.join(word)\n",
    "        words.append(word)\n",
    "    return ' '.join(words)\n",
    "\n",
    "spin_words('Stop gninnipS My sdroW')"
   ]
  },
  {
   "cell_type": "code",
   "execution_count": 16,
   "metadata": {},
   "outputs": [
    {
     "data": {
      "text/plain": [
       "'Spinning'"
      ]
     },
     "execution_count": 16,
     "metadata": {},
     "output_type": "execute_result"
    }
   ],
   "source": [
    "'gninnipS'[::-1]"
   ]
  },
  {
   "cell_type": "code",
   "execution_count": null,
   "metadata": {},
   "outputs": [],
   "source": []
  }
 ],
 "metadata": {
  "kernelspec": {
   "display_name": "Python 3",
   "language": "python",
   "name": "python3"
  },
  "language_info": {
   "codemirror_mode": {
    "name": "ipython",
    "version": 3
   },
   "file_extension": ".py",
   "mimetype": "text/x-python",
   "name": "python",
   "nbconvert_exporter": "python",
   "pygments_lexer": "ipython3",
   "version": "3.8.3"
  }
 },
 "nbformat": 4,
 "nbformat_minor": 4
}
