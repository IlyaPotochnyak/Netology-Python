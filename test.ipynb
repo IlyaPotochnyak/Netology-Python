{
 "cells": [
  {
   "cell_type": "code",
   "execution_count": 13,
   "metadata": {},
   "outputs": [
    {
     "name": "stdout",
     "output_type": "stream",
     "text": [
      "Ski package\n"
     ]
    }
   ],
   "source": [
    "a = 20\n",
    "b = 201\n",
    "c = 12\n",
    "\n",
    "if a > 200 or b > 200 or c > 200:\n",
    "    print ('Ski package')\n",
    "elif a < 15 and b < 15 and c < 15:\n",
    "    print ('Box n1')\n",
    "elif 15 < a < 50 or 15 < b < 50 or 15 < c < 50:\n",
    "    print ('Box n2')\n",
    "else:\n",
    "    print ('Stadart box n3')\n"
   ]
  },
  {
   "cell_type": "code",
   "execution_count": 14,
   "metadata": {},
   "outputs": [
    {
     "data": {
      "text/plain": [
       "1048576"
      ]
     },
     "execution_count": 14,
     "metadata": {},
     "output_type": "execute_result"
    }
   ],
   "source": [
    "2 ** 20"
   ]
  },
  {
   "cell_type": "code",
   "execution_count": 3,
   "metadata": {},
   "outputs": [
    {
     "name": "stdout",
     "output_type": "stream",
     "text": [
      "asd\n"
     ]
    }
   ],
   "source": [
    "string = 'asdfghjk'\n",
    "print (string[:3])"
   ]
  },
  {
   "cell_type": "code",
   "execution_count": 5,
   "metadata": {},
   "outputs": [
    {
     "name": "stdout",
     "output_type": "stream",
     "text": [
      "['a', 'b']\n"
     ]
    }
   ],
   "source": [
    "lst = [\n",
    "    1,\n",
    "    2,\n",
    "    ['a', 'b']\n",
    "]\n",
    "\n",
    "print (lst[-1])\n"
   ]
  },
  {
   "cell_type": "code",
   "execution_count": 4,
   "metadata": {},
   "outputs": [
    {
     "name": "stdout",
     "output_type": "stream",
     "text": [
      "Hello World\n"
     ]
    }
   ],
   "source": [
    "my_str = 'Hello world'\n",
    "my_list = [i for i in my_str]\n",
    "my_list[6] = 'W'\n",
    "print (''.join(my_list))"
   ]
  },
  {
   "cell_type": "code",
   "execution_count": 3,
   "metadata": {},
   "outputs": [
    {
     "data": {
      "text/plain": [
       "['H', 'e', 'l', 'l', 'o', ' ', 'w', 'o', 'r', 'l', 'd']"
      ]
     },
     "execution_count": 3,
     "metadata": {},
     "output_type": "execute_result"
    }
   ],
   "source": [
    "my_list"
   ]
  },
  {
   "cell_type": "code",
   "execution_count": 8,
   "metadata": {},
   "outputs": [
    {
     "name": "stdout",
     "output_type": "stream",
     "text": [
      "<class 'list'>\n"
     ]
    },
    {
     "data": {
      "text/plain": [
       "[0, 1, 2, 4, 5, False]"
      ]
     },
     "execution_count": 8,
     "metadata": {},
     "output_type": "execute_result"
    }
   ],
   "source": [
    "numb = [0, 1, 2, 4, 5]\n",
    "# dct = {a: numb}\n",
    "numb.append(False)\n",
    "print(type(numb))\n",
    "numb\n",
    "\n"
   ]
  },
  {
   "cell_type": "code",
   "execution_count": 9,
   "metadata": {},
   "outputs": [
    {
     "name": "stdout",
     "output_type": "stream",
     "text": [
      "[1, 2, 3, 4] [1, 2, 3]\n"
     ]
    }
   ],
   "source": [
    "lst_1 = [1, 2, 3]\n",
    "lst_2 = lst_1.copy()\n",
    "lst_2 += [4]\n",
    "print(lst_2, lst_1)"
   ]
  },
  {
   "cell_type": "code",
   "execution_count": 12,
   "metadata": {},
   "outputs": [
    {
     "name": "stdout",
     "output_type": "stream",
     "text": [
      "a/b/2\n"
     ]
    }
   ],
   "source": [
    "print('a', 'b', 2, sep='/')"
   ]
  },
  {
   "cell_type": "code",
   "execution_count": 20,
   "metadata": {},
   "outputs": [
    {
     "name": "stdout",
     "output_type": "stream",
     "text": [
      "1 2 b 4 c a d\n"
     ]
    }
   ],
   "source": [
    "my_lst = ['a', 'b', 'a', 'c', 'd', 'c']\n",
    "my_set = set(my_lst)\n",
    "my_set1 = (1, 2, 4)\n",
    "\n",
    "my_set.add('e')\n",
    "my_set.update(my_set1)\n",
    "my_set.discard('e')\n",
    "\n",
    "\n",
    "print(*my_set)"
   ]
  },
  {
   "cell_type": "code",
   "execution_count": 23,
   "metadata": {},
   "outputs": [
    {
     "name": "stdout",
     "output_type": "stream",
     "text": [
      "{1: 'q', 2: 'w', 3: 'e', 4: ['r', 't']}\n"
     ]
    }
   ],
   "source": [
    "my_dict = {1: 'q', 2: 'w', 3: 'e'}\n",
    "my_dict[4] = ['r', 't']\n",
    "# my_dict['f'] += 3\n",
    "print(my_dict)"
   ]
  },
  {
   "cell_type": "code",
   "execution_count": 24,
   "metadata": {},
   "outputs": [
    {
     "data": {
      "text/plain": [
       "['odd', 'even', 'odd', 'even', 'even', 'even', 'even']"
      ]
     },
     "execution_count": 24,
     "metadata": {},
     "output_type": "execute_result"
    }
   ],
   "source": [
    "# lst_1 = [1, 2, 3, 4]\n",
    "lst_1 = '1234444'\n",
    "odd_even_numbers = lambda x: 'even' if int(x) % 2 == 0 else 'odd'\n",
    "lst_2 = list(map(odd_even_numbers, lst_1))\n",
    "lst_2"
   ]
  },
  {
   "cell_type": "code",
   "execution_count": 4,
   "metadata": {},
   "outputs": [
    {
     "name": "stdout",
     "output_type": "stream",
     "text": [
      "1-2\n"
     ]
    }
   ],
   "source": [
    "a = {\"1\": 11, \"2\": 12}\n",
    "b = [1, 2, 3]\n",
    "x = \"-\".join(a)\n",
    "print(x)"
   ]
  },
  {
   "cell_type": "code",
   "execution_count": null,
   "metadata": {},
   "outputs": [],
   "source": []
  }
 ],
 "metadata": {
  "kernelspec": {
   "display_name": "Python 3",
   "language": "python",
   "name": "python3"
  },
  "language_info": {
   "codemirror_mode": {
    "name": "ipython",
    "version": 3
   },
   "file_extension": ".py",
   "mimetype": "text/x-python",
   "name": "python",
   "nbconvert_exporter": "python",
   "pygments_lexer": "ipython3",
   "version": "3.8.3"
  }
 },
 "nbformat": 4,
 "nbformat_minor": 4
}
