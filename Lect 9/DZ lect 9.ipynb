{
 "cells": [
  {
   "cell_type": "markdown",
   "metadata": {},
   "source": [
    "Задание 1.\n",
    "Напишите функцию, которая принимает на вход строку и проверяет является ли она валидным транспортным номером. Если да, то функция должна возвращать отдельно номер и регион."
   ]
  },
  {
   "cell_type": "code",
   "execution_count": 3,
   "metadata": {},
   "outputs": [
    {
     "data": {
      "text/plain": [
       "'Регион Винница Номер 2255'"
      ]
     },
     "execution_count": 3,
     "metadata": {},
     "output_type": "execute_result"
    }
   ],
   "source": [
    "import re\n",
    "inp_str1 = 'АА2134АВ'\n",
    "inp_str2 = 'АВ2255АВ'\n",
    "\n",
    "def verify_number(string):\n",
    "    regions = {'АА': 'Киев', 'АВ': 'Винница'}\n",
    "    \n",
    "    numb = re.findall(r'([А-Я]{2})(\\d{4})([А-Я]{2})', string)\n",
    "    if numb[0][0] in regions:\n",
    "        return 'Регион ' + regions[numb[0][0]] + ' Номер ' + numb[0][1]\n",
    "    return 'неверній регион'\n",
    "    \n",
    "verify_number(inp_str2)"
   ]
  },
  {
   "cell_type": "code",
   "execution_count": null,
   "metadata": {},
   "outputs": [],
   "source": [
    "# Регулярное выражение для проверки корректности e-mail\n",
    "^([a-z0-9_-]+\\.)*[a-z0-9_-]+@[a-z0-9_-]+(\\.[a-z0-9_-]+)*\\.[a-z]{2,6}$"
   ]
  },
  {
   "cell_type": "markdown",
   "metadata": {},
   "source": [
    "Напишите функцию, которая будет проверять номер сотового телефона на валидность, если он валиден, то переводить его в формат:\n",
    "+38(xxx)-xxx-xx-xx"
   ]
  },
  {
   "cell_type": "code",
   "execution_count": 23,
   "metadata": {},
   "outputs": [
    {
     "data": {
      "text/plain": [
       "'Valid number'"
      ]
     },
     "execution_count": 23,
     "metadata": {},
     "output_type": "execute_result"
    }
   ],
   "source": [
    "def verify_phone_number(string):\n",
    "    if re.match(r'\\+{0,1}3{0,1}8{0,1}\\({0,1}0{1}\\d{2}\\){0,1}-{0,1}\\d{3}-{0,1}\\d{2}-{0,1}\\d{2}', string):\n",
    "        return 'Valid number'\n",
    "    return 'Invalid number'\n",
    "\n",
    "nmbr = '+38(095)8130000'\n",
    "verify_phone_number(nmbr)\n"
   ]
  },
  {
   "cell_type": "code",
   "execution_count": null,
   "metadata": {},
   "outputs": [],
   "source": []
  },
  {
   "cell_type": "code",
   "execution_count": null,
   "metadata": {},
   "outputs": [],
   "source": []
  }
 ],
 "metadata": {
  "kernelspec": {
   "display_name": "Python 3",
   "language": "python",
   "name": "python3"
  },
  "language_info": {
   "codemirror_mode": {
    "name": "ipython",
    "version": 3
   },
   "file_extension": ".py",
   "mimetype": "text/x-python",
   "name": "python",
   "nbconvert_exporter": "python",
   "pygments_lexer": "ipython3",
   "version": "3.8.3"
  }
 },
 "nbformat": 4,
 "nbformat_minor": 4
}
