{
 "cells": [
  {
   "cell_type": "code",
   "execution_count": 2,
   "metadata": {},
   "outputs": [
    {
     "name": "stdout",
     "output_type": "stream",
     "text": [
      "1985-07-11\n",
      "1985-07-12\n",
      "1985-07-13\n",
      "1985-07-14\n",
      "1985-07-15\n",
      "1985-07-16\n"
     ]
    }
   ],
   "source": [
    "from datetime import datetime\n",
    "from datetime import timedelta\n",
    "# import datetime\n",
    "def date_range(start_date, end_date):\n",
    "    start_datetime = datetime.strptime(start_date, '%Y-%m-%d')\n",
    "    end_datetime = datetime.strptime(end_date, '%Y-%m-%d')\n",
    "#     while True:\n",
    "#         try:\n",
    "#             start_datetime = datetime.strptime(start_date, '%Y-%m-%d')\n",
    "# #             end_datetime = datetime.strptime(end_date, '%Y-%m-%d')\n",
    "# #             break\n",
    "# #     print(end_datetime - start_datetime)\n",
    "#         except:\n",
    "#             start_date = input('Введите дату начала в формате YYYY-MM-DD')\n",
    "        \n",
    "#         try:\n",
    "#             end_datetime = datetime.strptime(end_date, '%Y-%m-%d')\n",
    "# #             break\n",
    "# #     print(end_datetime - start_datetime)\n",
    "#         except:\n",
    "#             end_date = input('Введите дату окончания в формате YYYY-MM-DD')\n",
    "    \n",
    "    \n",
    "    current_date = start_datetime\n",
    "#     print(type(current_date))\n",
    "    while current_date <= end_datetime:\n",
    "        current_date += timedelta(days=1)\n",
    "        print(current_date.strftime('%Y-%m-%d'))\n",
    "    \n",
    "date_range('1985-07-10', '1985-07-15')    "
   ]
  },
  {
   "cell_type": "code",
   "execution_count": null,
   "metadata": {},
   "outputs": [],
   "source": []
  }
 ],
 "metadata": {
  "kernelspec": {
   "display_name": "Python 3",
   "language": "python",
   "name": "python3"
  }
 },
 "nbformat": 4,
 "nbformat_minor": 4
}
